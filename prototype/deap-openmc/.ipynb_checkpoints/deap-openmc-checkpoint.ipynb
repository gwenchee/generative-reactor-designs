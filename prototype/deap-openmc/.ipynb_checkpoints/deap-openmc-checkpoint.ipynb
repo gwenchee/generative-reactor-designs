{
 "cells": [
  {
   "cell_type": "code",
   "execution_count": null,
   "metadata": {},
   "outputs": [],
   "source": [
    "import random\n",
    "from deap import base, creator, tools, algorithms\n",
    "#from scoop import futures\n",
    "#import multiprocessing\n",
    "import numpy as np \n",
    "from itertools import cycle, islice \n",
    "from openmc_toy import *\n",
    "import pandas as pd\n",
    "from collections import defaultdict "
   ]
  },
  {
   "cell_type": "code",
   "execution_count": null,
   "metadata": {},
   "outputs": [],
   "source": [
    "# minimum fuel amount \n",
    "creator.create(\"FuelMin\", base.Fitness, weights=(-1.0,))\n",
    "creator.create(\"Ind\", list, fitness=creator.FuelMin, keff=1.0)\n",
    "\n",
    "ind = creator.Ind([0.005,1,1,1,1]) # PF, p1, p2, p3, p4"
   ]
  },
  {
   "cell_type": "code",
   "execution_count": null,
   "metadata": {},
   "outputs": [],
   "source": [
    "# openmc input + output\n",
    "def evalOpenMC(ind):\n",
    "    # return keff, total PF  \n",
    "    keff, total_pf = run_openmc(name=str(ind.gen)+'_'+str(ind.num), \n",
    "                                total_pf=ind[0],\n",
    "                                poly_coeff=[ind[1],ind[2],ind[3],ind[4]])\n",
    "    return (keff, total_pf) #(random.randint(-2,3),ind[0])"
   ]
  },
  {
   "cell_type": "code",
   "execution_count": null,
   "metadata": {},
   "outputs": [],
   "source": [
    "def triso_distribution(total_pf, dz, total_core_vol, poly_coeff): \n",
    "    \"\"\" This function returns discrete pf values \n",
    "    \"\"\"\n",
    "    T_r5 = 4235e-5\n",
    "    vol_triso = 4/3*np.pi*T_r5**3\n",
    "    total_trisos = round(total_pf*total_core_vol/vol_triso)\n",
    "    z_vals = np.arange(1,dz+1)\n",
    "    z = poly_coeff[0]*z_vals**3 + poly_coeff[1]*z_vals**2 + poly_coeff[2]*z_vals + poly_coeff[3]\n",
    "    z_trisos = z/(sum(z))*total_trisos\n",
    "    pf_z = z_trisos*vol_triso/(total_core_vol/dz)\n",
    "    return np.array(pf_z)"
   ]
  },
  {
   "cell_type": "code",
   "execution_count": null,
   "metadata": {},
   "outputs": [],
   "source": [
    "def f_cycle():\n",
    "    \"\"\" This function returns an individual\n",
    "    We needed this function to only return polynomials that are above 0 for dz vals \n",
    "    \"\"\"\n",
    "    dz = 10\n",
    "    polyval = np.array([-1] * dz)\n",
    "    dz_vals = np.arange(1,dz+1)\n",
    "    pf_z = np.array([0.3] * dz)\n",
    "    while len(polyval[polyval<0]) != 0 and len(pf_z[pf_z > 0.25]): \n",
    "        poly = [toolbox.poly(),toolbox.poly(),toolbox.poly(),toolbox.poly()]\n",
    "        polyval = poly[0]*dz_vals**3 + poly[1]*dz_vals**2 + poly[2]*dz_vals + poly[3]\n",
    "        total_pf = toolbox.pf()\n",
    "        pf_z = triso_distribution(total_pf, 10, 1, poly)\n",
    "    return creator.Ind([total_pf] + poly)"
   ]
  },
  {
   "cell_type": "code",
   "execution_count": null,
   "metadata": {},
   "outputs": [],
   "source": [
    "toolbox = base.Toolbox()\n",
    "toolbox.register('pf',random.uniform,0.005,0.1)\n",
    "toolbox.register('poly',random.uniform,-1,1)\n",
    "#func_cycle = [toolbox.pf,toolbox.poly,toolbox.poly,toolbox.poly,toolbox.poly]\n",
    "#toolbox.register('individual',tools.initCycle,creator.Ind,func_cycle)\n",
    "#toolbox.register('population', tools.initRepeat, list, toolbox.individual)\n",
    "toolbox.register('individual',f_cycle)\n",
    "toolbox.register('population', tools.initRepeat, list, toolbox.individual)\n",
    "toolbox.register(\"evaluate\", evalOpenMC)\n",
    "toolbox.register(\"mate\", tools.cxOnePoint)\n",
    "toolbox.register(\"mutate\", tools.mutPolynomialBounded, eta=0.5, \n",
    "                 low=[0.005,-1,-1,-1,-1], up=[0.1,1,1,1,1], indpb=0.5)\n",
    "toolbox.register(\"select\", tools.selBest, k=10, fit_attr='fitness')\n",
    "#toolbox.register(\"select\", tools.selTournament, tournsize=3)\n",
    "# multiproccessing is for single multicore machine \n",
    "#pool = multiprocessing.Pool()\n",
    "#toolbox.register(\"map\", pool.map)\n",
    "# scoop is for cluster \n",
    "#toolbox.register(\"map\", futures.map)"
   ]
  },
  {
   "cell_type": "code",
   "execution_count": null,
   "metadata": {},
   "outputs": [],
   "source": [
    "# create pandas dataframe for results summary \n",
    "results = defaultdict(list)\n",
    "\n",
    "def add_results(ind, results):\n",
    "    results['gen'].append(ind.gen) \n",
    "    results['ind'].append(ind.num)\n",
    "    results['total_pf'].append(ind[0])\n",
    "    results['poly'].append([ind[1],ind[2],ind[3],ind[4]])\n",
    "    results['keff'].append(ind.keff)\n",
    "    return results "
   ]
  },
  {
   "cell_type": "code",
   "execution_count": null,
   "metadata": {},
   "outputs": [],
   "source": [
    "pop_size = 20\n",
    "pop = toolbox.population(n=pop_size)\n",
    "# no. of generations, \n",
    "ngen, cxpb, mutpb = 10, 0.5, 0.5\n",
    "\n",
    "# initialize the first population of individuals' fitness values \n",
    "ind_count = 0 \n",
    "for ind in pop: \n",
    "    ind.gen = 0\n",
    "    ind.num = ind_count\n",
    "    ind_count += 1 \n",
    "fitnesses = toolbox.map(toolbox.evaluate, pop)\n",
    "dz = 10\n",
    "dz_vals = np.arange(1,dz+1)\n",
    "for ind, fitness in zip(pop, fitnesses):\n",
    "    ind.fitness.values = (fitness[1],)\n",
    "    ind.keff = fitness[0]\n",
    "    results = add_results(ind,results)\n",
    "    print(results)\n",
    "    \n",
    "for g in range(ngen):\n",
    "    print('GENERATION', g)\n",
    "    new_pop = []\n",
    "    for ind in pop:\n",
    "        #fitnesses = ind.fitness.values\n",
    "        if ind.keff >= 1:\n",
    "            new_pop.append(ind)\n",
    "    # return half pop with lowest total PF \n",
    "    new_pop = toolbox.select(new_pop, k = pop_size)\n",
    "    # extend new_pop back to 100 length \n",
    "    new_pop = list(islice(cycle(new_pop),pop_size))\n",
    "    # mate some of them \n",
    "    for child1, child2 in zip(new_pop[::2], new_pop[1::2]):\n",
    "        if random.random() < cxpb:\n",
    "            toolbox.mate(child1, child2)\n",
    "            del child1.fitness.values, child2.fitness.values\n",
    "    for mutant in new_pop:\n",
    "        if random.random() < mutpb:\n",
    "            toolbox.mutate(mutant)\n",
    "            del mutant.fitness.values \n",
    "    ind_count = 0 \n",
    "    for ind in new_pop: \n",
    "        ind.gen = g+1\n",
    "        ind.num = ind_count\n",
    "        ind_count += 1 \n",
    "    fitnesses = toolbox.map(toolbox.evaluate, new_pop)\n",
    "    dz = 10\n",
    "    dz_vals = np.arange(1,dz+1)\n",
    "    for ind, fitness in zip(new_pop, fitnesses):\n",
    "        ind.fitness.values = (fitness[1],)\n",
    "        ind.keff = fitness[0]\n",
    "        results = add_results(ind,results)\n",
    "        print(results)\n",
    "    pop = new_pop.copy()\n",
    "    pf_list = [] \n",
    "    for ind in pop: \n",
    "        pf_list.append(round(ind[0],4))\n",
    "    print(pf_list)"
   ]
  },
  {
   "cell_type": "code",
   "execution_count": null,
   "metadata": {},
   "outputs": [],
   "source": [
    "df = pd.DataFrame(data=results)"
   ]
  },
  {
   "cell_type": "code",
   "execution_count": null,
   "metadata": {},
   "outputs": [],
   "source": [
    "df"
   ]
  },
  {
   "cell_type": "code",
   "execution_count": null,
   "metadata": {},
   "outputs": [],
   "source": [
    "df.plot(x='gen', y='total_pf',kind='scatter')"
   ]
  },
  {
   "cell_type": "code",
   "execution_count": null,
   "metadata": {},
   "outputs": [],
   "source": []
  }
 ],
 "metadata": {
  "kernelspec": {
   "display_name": "openmc-ker",
   "language": "python",
   "name": "openmc-ker"
  },
  "language_info": {
   "codemirror_mode": {
    "name": "ipython",
    "version": 3
   },
   "file_extension": ".py",
   "mimetype": "text/x-python",
   "name": "python",
   "nbconvert_exporter": "python",
   "pygments_lexer": "ipython3",
   "version": "3.8.6"
  }
 },
 "nbformat": 4,
 "nbformat_minor": 4
}
