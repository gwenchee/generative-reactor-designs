{
 "cells": [
  {
   "cell_type": "code",
   "execution_count": 1,
   "metadata": {},
   "outputs": [],
   "source": [
    "import random\n",
    "from deap import base, creator, tools, algorithms\n",
    "#from scoop import futures\n",
    "#import multiprocessing\n",
    "import numpy as np \n",
    "from itertools import cycle, islice \n",
    "from openmc_toy import *\n",
    "import pandas as pd\n",
    "from collections import defaultdict \n",
    "from num2words import num2words"
   ]
  },
  {
   "cell_type": "code",
   "execution_count": 2,
   "metadata": {},
   "outputs": [],
   "source": [
    "# minimum fuel amount \n",
    "creator.create(\"FuelMin\", base.Fitness, weights=(-1.0,))\n",
    "creator.create(\"Ind\", list, fitness=creator.FuelMin, keff=1.0)\n",
    "\n",
    "ind = creator.Ind([0.005,1,1,1,1]) # PF, p1, p2, p3, p4"
   ]
  },
  {
   "cell_type": "code",
   "execution_count": 3,
   "metadata": {},
   "outputs": [],
   "source": [
    "# openmc input + output\n",
    "def evalOpenMC(ind):\n",
    "    # return keff, total PF  \n",
    "    keff, total_pf = run_openmc(name=str(ind.gen)+'_'+str(ind.num), \n",
    "                                total_pf=ind[0],\n",
    "                                poly_coeff=[ind[1],ind[2],ind[3],ind[4]])\n",
    "    return (keff, total_pf) #(random.randint(-2,3),ind[0])"
   ]
  },
  {
   "cell_type": "code",
   "execution_count": 4,
   "metadata": {},
   "outputs": [],
   "source": [
    "def triso_distribution(total_pf, dz, total_core_vol, poly_coeff): \n",
    "    \"\"\" This function returns discrete pf values \n",
    "    \"\"\"\n",
    "    T_r5 = 4235e-5\n",
    "    vol_triso = 4/3*np.pi*T_r5**3\n",
    "    total_trisos = round(total_pf*total_core_vol/vol_triso)\n",
    "    z_vals = np.arange(1,dz+1)\n",
    "    z = poly_coeff[0]*z_vals**3 + poly_coeff[1]*z_vals**2 + poly_coeff[2]*z_vals + poly_coeff[3]\n",
    "    z_trisos = z/(sum(z))*total_trisos\n",
    "    pf_z = z_trisos*vol_triso/(total_core_vol/dz)\n",
    "    return np.array(pf_z)"
   ]
  },
  {
   "cell_type": "code",
   "execution_count": 5,
   "metadata": {},
   "outputs": [],
   "source": [
    "def f_cycle():\n",
    "    \"\"\" This function returns an individual\n",
    "    We needed this function to only return polynomials that are above 0 for dz vals \n",
    "    \"\"\"\n",
    "    dz = 10\n",
    "    polyval = np.array([-1] * dz)\n",
    "    dz_vals = np.arange(1,dz+1)\n",
    "    pf_z = np.array([0.3] * dz)\n",
    "    while len(polyval[polyval<0]) != 0 and len(pf_z[pf_z > 0.25]): \n",
    "        poly = [toolbox.poly(),toolbox.poly(),toolbox.poly(),toolbox.poly()]\n",
    "        polyval = poly[0]*dz_vals**3 + poly[1]*dz_vals**2 + poly[2]*dz_vals + poly[3]\n",
    "        total_pf = toolbox.pf()\n",
    "        pf_z = triso_distribution(total_pf, 10, 1, poly)\n",
    "    return creator.Ind([total_pf] + poly)"
   ]
  },
  {
   "cell_type": "code",
   "execution_count": 14,
   "metadata": {},
   "outputs": [],
   "source": [
    "toolbox = base.Toolbox()\n",
    "toolbox.register('pf',random.uniform,0.005,0.1)\n",
    "toolbox.register('poly',random.uniform,-1,1)\n",
    "#func_cycle = [toolbox.pf,toolbox.poly,toolbox.poly,toolbox.poly,toolbox.poly]\n",
    "#toolbox.register('individual',tools.initCycle,creator.Ind,func_cycle)\n",
    "#toolbox.register('population', tools.initRepeat, list, toolbox.individual)\n",
    "toolbox.register('individual',f_cycle)\n",
    "toolbox.register('population', tools.initRepeat, list, toolbox.individual)\n",
    "toolbox.register(\"evaluate\", evalOpenMC)\n",
    "#toolbox.register(\"mate\", tools.cxOnePoint)\n",
    "toolbox.register(\"mate\", tools.cxUniform, indpb=0.5)\n",
    "toolbox.register(\"mutate\", tools.mutPolynomialBounded, eta=0.5, \n",
    "                 low=[0.005,-1,-1,-1,-1], up=[0.1,1,1,1,1], indpb=0.5)\n",
    "toolbox.register(\"select\", tools.selBest, k=10, fit_attr='fitness')\n",
    "toolbox.pop_size = 1 \n",
    "toolbox.ngen = 10\n",
    "toolbox.cxpb = 0.5 \n",
    "toolbox.mutpb = 0.5\n",
    "#toolbox.register(\"select\", tools.selTournament, tournsize=3)\n",
    "# multiproccessing is for single multicore machine \n",
    "#pool = multiprocessing.Pool()\n",
    "#toolbox.register(\"map\", pool.map)\n",
    "# scoop is for cluster \n",
    "#toolbox.register(\"map\", futures.map)"
   ]
  },
  {
   "cell_type": "code",
   "execution_count": 7,
   "metadata": {},
   "outputs": [],
   "source": [
    "# create pandas dataframe for results summary \n",
    "results = defaultdict(list)\n",
    "\n",
    "def add_results(ind, results):\n",
    "    results['gen'].append(ind.gen) \n",
    "    results['ind'].append(ind.num)\n",
    "    results['total_pf'].append(ind[0])\n",
    "    results['poly'].append([ind[1],ind[2],ind[3],ind[4]])\n",
    "    results['keff'].append(ind.keff)\n",
    "    return results "
   ]
  },
  {
   "cell_type": "code",
   "execution_count": 8,
   "metadata": {},
   "outputs": [
    {
     "ename": "NameError",
     "evalue": "name 'fitness' is not defined",
     "output_type": "error",
     "traceback": [
      "\u001b[0;31m---------------------------------------------------------------------------\u001b[0m",
      "\u001b[0;31mNameError\u001b[0m                                 Traceback (most recent call last)",
      "\u001b[0;32m<ipython-input-8-2d07c3c6fd70>\u001b[0m in \u001b[0;36m<module>\u001b[0;34m\u001b[0m\n\u001b[0;32m----> 1\u001b[0;31m \u001b[0;32mfor\u001b[0m \u001b[0mi\u001b[0m \u001b[0;32min\u001b[0m \u001b[0mrange\u001b[0m\u001b[0;34m(\u001b[0m\u001b[0mlen\u001b[0m\u001b[0;34m(\u001b[0m\u001b[0mfitness\u001b[0m\u001b[0;34m)\u001b[0m\u001b[0;34m)\u001b[0m\u001b[0;34m:\u001b[0m\u001b[0;34m\u001b[0m\u001b[0;34m\u001b[0m\u001b[0m\n\u001b[0m\u001b[1;32m      2\u001b[0m     \u001b[0;32mif\u001b[0m \u001b[0mi\u001b[0m \u001b[0;34m!=\u001b[0m \u001b[0;36m0\u001b[0m\u001b[0;34m:\u001b[0m\u001b[0;34m\u001b[0m\u001b[0;34m\u001b[0m\u001b[0m\n\u001b[1;32m      3\u001b[0m         \u001b[0msetattr\u001b[0m\u001b[0;34m(\u001b[0m\u001b[0mind\u001b[0m\u001b[0;34m,\u001b[0m \u001b[0mnum2words\u001b[0m\u001b[0;34m(\u001b[0m\u001b[0mi\u001b[0m\u001b[0;34m)\u001b[0m\u001b[0;34m,\u001b[0m\u001b[0mfitness\u001b[0m\u001b[0;34m[\u001b[0m\u001b[0mi\u001b[0m\u001b[0;34m]\u001b[0m\u001b[0;34m)\u001b[0m\u001b[0;34m\u001b[0m\u001b[0;34m\u001b[0m\u001b[0m\n",
      "\u001b[0;31mNameError\u001b[0m: name 'fitness' is not defined"
     ]
    }
   ],
   "source": [
    "for i in range(len(fitness)):\n",
    "    if i != 0:\n",
    "        setattr(ind, num2words(i),fitness[i])"
   ]
  },
  {
   "cell_type": "code",
   "execution_count": 9,
   "metadata": {},
   "outputs": [
    {
     "ename": "NameError",
     "evalue": "name 'fitness' is not defined",
     "output_type": "error",
     "traceback": [
      "\u001b[0;31m---------------------------------------------------------------------------\u001b[0m",
      "\u001b[0;31mNameError\u001b[0m                                 Traceback (most recent call last)",
      "\u001b[0;32m<ipython-input-9-5302c8e2cc0d>\u001b[0m in \u001b[0;36m<module>\u001b[0;34m\u001b[0m\n\u001b[0;32m----> 1\u001b[0;31m \u001b[0mind\u001b[0m\u001b[0;34m.\u001b[0m\u001b[0moutput\u001b[0m \u001b[0;34m=\u001b[0m \u001b[0mfitness\u001b[0m\u001b[0;34m\u001b[0m\u001b[0;34m\u001b[0m\u001b[0m\n\u001b[0m",
      "\u001b[0;31mNameError\u001b[0m: name 'fitness' is not defined"
     ]
    }
   ],
   "source": [
    "ind.output = fitness"
   ]
  },
  {
   "cell_type": "code",
   "execution_count": 10,
   "metadata": {},
   "outputs": [
    {
     "name": "stdout",
     "output_type": "stream",
     "text": [
      "0 0.005\n",
      "1 1\n",
      "2 1\n",
      "3 1\n",
      "4 1\n"
     ]
    }
   ],
   "source": [
    "for i, inp in enumerate(ind):\n",
    "    print(i,inp)"
   ]
  },
  {
   "cell_type": "code",
   "execution_count": null,
   "metadata": {},
   "outputs": [],
   "source": [
    "fitness[1]"
   ]
  },
  {
   "cell_type": "code",
   "execution_count": 17,
   "metadata": {},
   "outputs": [
    {
     "name": "stdout",
     "output_type": "stream",
     "text": [
      "hi\n",
      "                                %%%%%%%%%%%%%%%\n",
      "                           %%%%%%%%%%%%%%%%%%%%%%%%\n",
      "                        %%%%%%%%%%%%%%%%%%%%%%%%%%%%%%\n",
      "                      %%%%%%%%%%%%%%%%%%%%%%%%%%%%%%%%%%\n",
      "                    %%%%%%%%%%%%%%%%%%%%%%%%%%%%%%%%%%%%%%\n",
      "                   %%%%%%%%%%%%%%%%%%%%%%%%%%%%%%%%%%%%%%%%\n",
      "                                    %%%%%%%%%%%%%%%%%%%%%%%%\n",
      "                                     %%%%%%%%%%%%%%%%%%%%%%%%\n",
      "                 ###############      %%%%%%%%%%%%%%%%%%%%%%%%\n",
      "                ##################     %%%%%%%%%%%%%%%%%%%%%%%\n",
      "                ###################     %%%%%%%%%%%%%%%%%%%%%%%\n",
      "                ####################     %%%%%%%%%%%%%%%%%%%%%%\n",
      "                #####################     %%%%%%%%%%%%%%%%%%%%%\n",
      "                ######################     %%%%%%%%%%%%%%%%%%%%\n",
      "                #######################     %%%%%%%%%%%%%%%%%%\n",
      "                 #######################     %%%%%%%%%%%%%%%%%\n",
      "                 ######################     %%%%%%%%%%%%%%%%%\n",
      "                  ####################     %%%%%%%%%%%%%%%%%\n",
      "                    #################     %%%%%%%%%%%%%%%%%\n",
      "                     ###############     %%%%%%%%%%%%%%%%\n",
      "                       ############     %%%%%%%%%%%%%%%\n",
      "                          ########     %%%%%%%%%%%%%%\n",
      "                                      %%%%%%%%%%%\n",
      "\n",
      "                   | The OpenMC Monte Carlo Code\n",
      "         Copyright | 2011-2020 MIT and OpenMC contributors\n",
      "           License | https://docs.openmc.org/en/latest/license.html\n",
      "           Version | 0.12.0\n",
      "         Date/Time | 2020-11-03 17:43:14\n",
      "    OpenMP Threads | 4\n",
      "\n",
      " Reading settings XML file...\n",
      " Reading cross sections XML file...\n",
      " Reading materials XML file...\n",
      " Reading geometry XML file...\n",
      " Reading U235 from /Users/gwenchee/data/endfb71_hdf5/U235.h5\n",
      " Reading U235 WMP data from /Users/gwenchee/data/endfb71_hdf5/wmp/092235.h5\n",
      " Reading U238 from /Users/gwenchee/data/endfb71_hdf5/U238.h5\n",
      " Reading U238 WMP data from /Users/gwenchee/data/endfb71_hdf5/wmp/092238.h5\n",
      " Reading O16 from /Users/gwenchee/data/endfb71_hdf5/O16.h5\n",
      " Reading O16 WMP data from /Users/gwenchee/data/endfb71_hdf5/wmp/008016.h5\n",
      " Reading C0 from /Users/gwenchee/data/endfb71_hdf5/C0.h5\n",
      " Reading C0 WMP data from /Users/gwenchee/data/endfb71_hdf5/wmp/006000.h5\n",
      " Reading Si28 from /Users/gwenchee/data/endfb71_hdf5/Si28.h5\n",
      " Reading Si28 WMP data from /Users/gwenchee/data/endfb71_hdf5/wmp/014028.h5\n",
      " Reading Si29 from /Users/gwenchee/data/endfb71_hdf5/Si29.h5\n",
      " Reading Si29 WMP data from /Users/gwenchee/data/endfb71_hdf5/wmp/014029.h5\n",
      " Reading Si30 from /Users/gwenchee/data/endfb71_hdf5/Si30.h5\n",
      " Reading Si30 WMP data from /Users/gwenchee/data/endfb71_hdf5/wmp/014030.h5\n",
      " Reading Li6 from /Users/gwenchee/data/endfb71_hdf5/Li6.h5\n",
      " Reading Li6 WMP data from /Users/gwenchee/data/endfb71_hdf5/wmp/003006.h5\n",
      " Reading Li7 from /Users/gwenchee/data/endfb71_hdf5/Li7.h5\n",
      " Reading Li7 WMP data from /Users/gwenchee/data/endfb71_hdf5/wmp/003007.h5\n",
      " Reading Be9 from /Users/gwenchee/data/endfb71_hdf5/Be9.h5\n",
      " Reading Be9 WMP data from /Users/gwenchee/data/endfb71_hdf5/wmp/004009.h5\n",
      " Reading F19 from /Users/gwenchee/data/endfb71_hdf5/F19.h5\n",
      " Reading F19 WMP data from /Users/gwenchee/data/endfb71_hdf5/wmp/009019.h5\n",
      " Minimum neutron data temperature: 900.000000 K\n",
      " Maximum neutron data temperature: 1200.000000 K\n",
      " Preparing distributed cell instances...\n",
      " Writing summary.h5 file...\n",
      " Maximum neutron transport energy: 20000000.000000 eV for U235\n",
      " Initializing source particles...\n",
      "\n",
      " ====================>     K EIGENVALUE SIMULATION     <====================\n",
      "\n",
      "  Bat./Gen.      k            Average k\n",
      "  =========   ========   ====================\n",
      "        1/1    1.63605\n",
      "        2/1    1.44615\n",
      "        3/1    1.58176\n",
      "        4/1    1.59702    1.58939 +/- 0.00763\n",
      "        5/1    1.82307    1.66728 +/- 0.07802\n",
      "        6/1    1.44375    1.61140 +/- 0.07852\n",
      "        7/1    1.82858    1.65484 +/- 0.07474\n",
      "        8/1    1.94721    1.70356 +/- 0.07809\n",
      "        9/1    1.62503    1.69235 +/- 0.06695\n",
      "       10/1    1.44036    1.66085 +/- 0.06598\n",
      " Creating state point statepoint.10.h5...\n",
      "\n",
      " =======================>     TIMING STATISTICS     <=======================\n",
      "\n",
      " Total time for initialization     = 2.0977e+00 seconds\n",
      "   Reading cross sections          = 1.7955e+00 seconds\n",
      " Total time in simulation          = 6.9506e+00 seconds\n",
      "   Time in transport only          = 6.9413e+00 seconds\n",
      "   Time in inactive batches        = 1.3440e+00 seconds\n",
      "   Time in active batches          = 5.6067e+00 seconds\n",
      "   Time synchronizing fission bank = 6.6883e-05 seconds\n",
      "     Sampling source sites         = 5.7694e-05 seconds\n",
      "     SEND/RECV source sites        = 5.6630e-06 seconds\n",
      "   Time accumulating tallies       = 4.6430e-06 seconds\n",
      " Total time for finalization       = 4.6200e-07 seconds\n",
      " Total time elapsed                = 9.0554e+00 seconds\n",
      " Calculation Rate (inactive)       = 148.815 particles/second\n",
      " Calculation Rate (active)         = 142.687 particles/second\n",
      "\n",
      " ============================>     RESULTS     <============================\n",
      "\n",
      " k-effective (Collision)     = 1.55786 +/- 0.04480\n",
      " k-effective (Track-length)  = 1.66085 +/- 0.06598\n",
      " k-effective (Absorption)    = 1.57346 +/- 0.03529\n",
      " Combined k-effective        = 1.59867 +/- 0.05687\n",
      " Leakage Fraction            = 0.00000 +/- 0.00000\n",
      "\n",
      "hi1\n",
      "hi2\n",
      "defaultdict(<class 'list'>, {'gen': [0, 0, 0], 'ind': [0, 0, 0], 'total_pf': [0.07999769499212793, 0.0990896824884967, 0.08672752899745222], 'poly': [[0.7717382811963227, 0.3607413205892669, -0.5917866238179574, 0.7189976991448852], [-0.05705036421107845, 0.9010711228500392, -0.4820614190115582, -0.6590148937983265], [0.004477116866966169, 0.9641532750770685, 0.5410462796616011, 0.07923489689955754]], 'keff': [1.6128261128326098, 1.5688871780738882, 1.5986675894714122]})\n",
      "GENERATION 0\n",
      "mate\n",
      "mutate\n",
      "done mutate\n",
      "                                %%%%%%%%%%%%%%%\n",
      "                           %%%%%%%%%%%%%%%%%%%%%%%%\n",
      "                        %%%%%%%%%%%%%%%%%%%%%%%%%%%%%%\n",
      "                      %%%%%%%%%%%%%%%%%%%%%%%%%%%%%%%%%%\n",
      "                    %%%%%%%%%%%%%%%%%%%%%%%%%%%%%%%%%%%%%%\n",
      "                   %%%%%%%%%%%%%%%%%%%%%%%%%%%%%%%%%%%%%%%%\n",
      "                                    %%%%%%%%%%%%%%%%%%%%%%%%\n",
      "                                     %%%%%%%%%%%%%%%%%%%%%%%%\n",
      "                 ###############      %%%%%%%%%%%%%%%%%%%%%%%%\n",
      "                ##################     %%%%%%%%%%%%%%%%%%%%%%%\n",
      "                ###################     %%%%%%%%%%%%%%%%%%%%%%%\n",
      "                ####################     %%%%%%%%%%%%%%%%%%%%%%\n",
      "                #####################     %%%%%%%%%%%%%%%%%%%%%\n",
      "                ######################     %%%%%%%%%%%%%%%%%%%%\n",
      "                #######################     %%%%%%%%%%%%%%%%%%\n",
      "                 #######################     %%%%%%%%%%%%%%%%%\n",
      "                 ######################     %%%%%%%%%%%%%%%%%\n",
      "                  ####################     %%%%%%%%%%%%%%%%%\n",
      "                    #################     %%%%%%%%%%%%%%%%%\n",
      "                     ###############     %%%%%%%%%%%%%%%%\n",
      "                       ############     %%%%%%%%%%%%%%%\n",
      "                          ########     %%%%%%%%%%%%%%\n",
      "                                      %%%%%%%%%%%\n",
      "\n",
      "                   | The OpenMC Monte Carlo Code\n",
      "         Copyright | 2011-2020 MIT and OpenMC contributors\n",
      "           License | https://docs.openmc.org/en/latest/license.html\n",
      "           Version | 0.12.0\n",
      "         Date/Time | 2020-11-03 17:43:24\n",
      "    OpenMP Threads | 4\n",
      "\n",
      " Reading settings XML file...\n",
      " Reading cross sections XML file...\n",
      " Reading materials XML file...\n",
      " Reading geometry XML file...\n",
      " Reading U235 from /Users/gwenchee/data/endfb71_hdf5/U235.h5\n",
      " Reading U235 WMP data from /Users/gwenchee/data/endfb71_hdf5/wmp/092235.h5\n",
      " Reading U238 from /Users/gwenchee/data/endfb71_hdf5/U238.h5\n",
      " Reading U238 WMP data from /Users/gwenchee/data/endfb71_hdf5/wmp/092238.h5\n",
      " Reading O16 from /Users/gwenchee/data/endfb71_hdf5/O16.h5\n",
      " Reading O16 WMP data from /Users/gwenchee/data/endfb71_hdf5/wmp/008016.h5\n",
      " Reading C0 from /Users/gwenchee/data/endfb71_hdf5/C0.h5\n",
      " Reading C0 WMP data from /Users/gwenchee/data/endfb71_hdf5/wmp/006000.h5\n",
      " Reading Si28 from /Users/gwenchee/data/endfb71_hdf5/Si28.h5\n",
      " Reading Si28 WMP data from /Users/gwenchee/data/endfb71_hdf5/wmp/014028.h5\n",
      " Reading Si29 from /Users/gwenchee/data/endfb71_hdf5/Si29.h5\n",
      " Reading Si29 WMP data from /Users/gwenchee/data/endfb71_hdf5/wmp/014029.h5\n",
      " Reading Si30 from /Users/gwenchee/data/endfb71_hdf5/Si30.h5\n",
      " Reading Si30 WMP data from /Users/gwenchee/data/endfb71_hdf5/wmp/014030.h5\n",
      " Reading Li6 from /Users/gwenchee/data/endfb71_hdf5/Li6.h5\n",
      " Reading Li6 WMP data from /Users/gwenchee/data/endfb71_hdf5/wmp/003006.h5\n",
      " Reading Li7 from /Users/gwenchee/data/endfb71_hdf5/Li7.h5\n",
      " Reading Li7 WMP data from /Users/gwenchee/data/endfb71_hdf5/wmp/003007.h5\n",
      " Reading Be9 from /Users/gwenchee/data/endfb71_hdf5/Be9.h5\n",
      " Reading Be9 WMP data from /Users/gwenchee/data/endfb71_hdf5/wmp/004009.h5\n",
      " Reading F19 from /Users/gwenchee/data/endfb71_hdf5/F19.h5\n",
      " Reading F19 WMP data from /Users/gwenchee/data/endfb71_hdf5/wmp/009019.h5\n",
      " Minimum neutron data temperature: 900.000000 K\n",
      " Maximum neutron data temperature: 1200.000000 K\n",
      " Preparing distributed cell instances...\n",
      " Writing summary.h5 file...\n",
      " Maximum neutron transport energy: 20000000.000000 eV for U235\n",
      " Initializing source particles...\n",
      "\n",
      " ====================>     K EIGENVALUE SIMULATION     <====================\n",
      "\n",
      "  Bat./Gen.      k            Average k\n",
      "  =========   ========   ====================\n",
      "        1/1    1.68137\n",
      "        2/1    2.01780\n",
      "        3/1    1.67593\n",
      "        4/1    1.73695    1.70644 +/- 0.03051\n",
      "        5/1    1.75742    1.72343 +/- 0.02448\n",
      "        6/1    1.40946    1.64494 +/- 0.08038\n"
     ]
    },
    {
     "ename": "KeyboardInterrupt",
     "evalue": "",
     "output_type": "error",
     "traceback": [
      "\u001b[0;31m---------------------------------------------------------------------------\u001b[0m",
      "\u001b[0;31mKeyboardInterrupt\u001b[0m                         Traceback (most recent call last)",
      "\u001b[0;32m<ipython-input-17-1d36277c637c>\u001b[0m in \u001b[0;36m<module>\u001b[0;34m\u001b[0m\n\u001b[1;32m     60\u001b[0m     \u001b[0mdz_vals\u001b[0m \u001b[0;34m=\u001b[0m \u001b[0mnp\u001b[0m\u001b[0;34m.\u001b[0m\u001b[0marange\u001b[0m\u001b[0;34m(\u001b[0m\u001b[0;36m1\u001b[0m\u001b[0;34m,\u001b[0m\u001b[0mdz\u001b[0m\u001b[0;34m+\u001b[0m\u001b[0;36m1\u001b[0m\u001b[0;34m)\u001b[0m\u001b[0;34m\u001b[0m\u001b[0;34m\u001b[0m\u001b[0m\n\u001b[1;32m     61\u001b[0m     \u001b[0;31m# assign fitness values to individuals\u001b[0m\u001b[0;34m\u001b[0m\u001b[0;34m\u001b[0m\u001b[0;34m\u001b[0m\u001b[0m\n\u001b[0;32m---> 62\u001b[0;31m     \u001b[0;32mfor\u001b[0m \u001b[0mind\u001b[0m\u001b[0;34m,\u001b[0m \u001b[0mfitness\u001b[0m \u001b[0;32min\u001b[0m \u001b[0mzip\u001b[0m\u001b[0;34m(\u001b[0m\u001b[0mnew_pop\u001b[0m\u001b[0;34m,\u001b[0m \u001b[0mfitnesses\u001b[0m\u001b[0;34m)\u001b[0m\u001b[0;34m:\u001b[0m\u001b[0;34m\u001b[0m\u001b[0;34m\u001b[0m\u001b[0m\n\u001b[0m\u001b[1;32m     63\u001b[0m         \u001b[0mind\u001b[0m\u001b[0;34m.\u001b[0m\u001b[0mfitness\u001b[0m\u001b[0;34m.\u001b[0m\u001b[0mvalues\u001b[0m \u001b[0;34m=\u001b[0m \u001b[0;34m(\u001b[0m\u001b[0mfitness\u001b[0m\u001b[0;34m[\u001b[0m\u001b[0;36m1\u001b[0m\u001b[0;34m]\u001b[0m\u001b[0;34m,\u001b[0m\u001b[0;34m)\u001b[0m\u001b[0;34m\u001b[0m\u001b[0;34m\u001b[0m\u001b[0m\n\u001b[1;32m     64\u001b[0m         \u001b[0mind\u001b[0m\u001b[0;34m.\u001b[0m\u001b[0mkeff\u001b[0m \u001b[0;34m=\u001b[0m \u001b[0mfitness\u001b[0m\u001b[0;34m[\u001b[0m\u001b[0;36m0\u001b[0m\u001b[0;34m]\u001b[0m\u001b[0;34m\u001b[0m\u001b[0;34m\u001b[0m\u001b[0m\n",
      "\u001b[0;32m<ipython-input-3-b96fce52c5b6>\u001b[0m in \u001b[0;36mevalOpenMC\u001b[0;34m(ind)\u001b[0m\n\u001b[1;32m      2\u001b[0m \u001b[0;32mdef\u001b[0m \u001b[0mevalOpenMC\u001b[0m\u001b[0;34m(\u001b[0m\u001b[0mind\u001b[0m\u001b[0;34m)\u001b[0m\u001b[0;34m:\u001b[0m\u001b[0;34m\u001b[0m\u001b[0;34m\u001b[0m\u001b[0m\n\u001b[1;32m      3\u001b[0m     \u001b[0;31m# return keff, total PF\u001b[0m\u001b[0;34m\u001b[0m\u001b[0;34m\u001b[0m\u001b[0;34m\u001b[0m\u001b[0m\n\u001b[0;32m----> 4\u001b[0;31m     keff, total_pf = run_openmc(name=str(ind.gen)+'_'+str(ind.num), \n\u001b[0m\u001b[1;32m      5\u001b[0m                                 \u001b[0mtotal_pf\u001b[0m\u001b[0;34m=\u001b[0m\u001b[0mind\u001b[0m\u001b[0;34m[\u001b[0m\u001b[0;36m0\u001b[0m\u001b[0;34m]\u001b[0m\u001b[0;34m,\u001b[0m\u001b[0;34m\u001b[0m\u001b[0;34m\u001b[0m\u001b[0m\n\u001b[1;32m      6\u001b[0m                                 poly_coeff=[ind[1],ind[2],ind[3],ind[4]])\n",
      "\u001b[0;32m~/github/gwen/generative-reactor-designs/prototype/deap-openmc/openmc_toy.py\u001b[0m in \u001b[0;36mrun_openmc\u001b[0;34m(name, total_pf, poly_coeff)\u001b[0m\n\u001b[1;32m     82\u001b[0m     \u001b[0msettings\u001b[0m\u001b[0;34m.\u001b[0m\u001b[0mexport_to_xml\u001b[0m\u001b[0;34m(\u001b[0m\u001b[0;34m)\u001b[0m\u001b[0;34m\u001b[0m\u001b[0;34m\u001b[0m\u001b[0m\n\u001b[1;32m     83\u001b[0m \u001b[0;34m\u001b[0m\u001b[0m\n\u001b[0;32m---> 84\u001b[0;31m     \u001b[0mopenmc\u001b[0m\u001b[0;34m.\u001b[0m\u001b[0mrun\u001b[0m\u001b[0;34m(\u001b[0m\u001b[0;34m)\u001b[0m\u001b[0;34m\u001b[0m\u001b[0;34m\u001b[0m\u001b[0m\n\u001b[0m\u001b[1;32m     85\u001b[0m \u001b[0;34m\u001b[0m\u001b[0m\n\u001b[1;32m     86\u001b[0m     \u001b[0msp\u001b[0m \u001b[0;34m=\u001b[0m \u001b[0mopenmc\u001b[0m\u001b[0;34m.\u001b[0m\u001b[0mStatePoint\u001b[0m\u001b[0;34m(\u001b[0m\u001b[0;34m'statepoint.10.h5'\u001b[0m\u001b[0;34m)\u001b[0m\u001b[0;34m\u001b[0m\u001b[0;34m\u001b[0m\u001b[0m\n",
      "\u001b[0;32m~/anaconda3/envs/openmc-env/lib/python3.8/site-packages/openmc/executor.py\u001b[0m in \u001b[0;36mrun\u001b[0;34m(particles, threads, geometry_debug, restart_file, tracks, output, cwd, openmc_exec, mpi_args, event_based)\u001b[0m\n\u001b[1;32m    216\u001b[0m         \u001b[0margs\u001b[0m \u001b[0;34m=\u001b[0m \u001b[0mmpi_args\u001b[0m \u001b[0;34m+\u001b[0m \u001b[0margs\u001b[0m\u001b[0;34m\u001b[0m\u001b[0;34m\u001b[0m\u001b[0m\n\u001b[1;32m    217\u001b[0m \u001b[0;34m\u001b[0m\u001b[0m\n\u001b[0;32m--> 218\u001b[0;31m     \u001b[0m_run\u001b[0m\u001b[0;34m(\u001b[0m\u001b[0margs\u001b[0m\u001b[0;34m,\u001b[0m \u001b[0moutput\u001b[0m\u001b[0;34m,\u001b[0m \u001b[0mcwd\u001b[0m\u001b[0;34m)\u001b[0m\u001b[0;34m\u001b[0m\u001b[0;34m\u001b[0m\u001b[0m\n\u001b[0m",
      "\u001b[0;32m~/anaconda3/envs/openmc-env/lib/python3.8/site-packages/openmc/executor.py\u001b[0m in \u001b[0;36m_run\u001b[0;34m(args, output, cwd)\u001b[0m\n\u001b[1;32m     15\u001b[0m     \u001b[0;32mwhile\u001b[0m \u001b[0;32mTrue\u001b[0m\u001b[0;34m:\u001b[0m\u001b[0;34m\u001b[0m\u001b[0;34m\u001b[0m\u001b[0m\n\u001b[1;32m     16\u001b[0m         \u001b[0;31m# If OpenMC is finished, break loop\u001b[0m\u001b[0;34m\u001b[0m\u001b[0;34m\u001b[0m\u001b[0;34m\u001b[0m\u001b[0m\n\u001b[0;32m---> 17\u001b[0;31m         \u001b[0mline\u001b[0m \u001b[0;34m=\u001b[0m \u001b[0mp\u001b[0m\u001b[0;34m.\u001b[0m\u001b[0mstdout\u001b[0m\u001b[0;34m.\u001b[0m\u001b[0mreadline\u001b[0m\u001b[0;34m(\u001b[0m\u001b[0;34m)\u001b[0m\u001b[0;34m\u001b[0m\u001b[0;34m\u001b[0m\u001b[0m\n\u001b[0m\u001b[1;32m     18\u001b[0m         \u001b[0;32mif\u001b[0m \u001b[0;32mnot\u001b[0m \u001b[0mline\u001b[0m \u001b[0;32mand\u001b[0m \u001b[0mp\u001b[0m\u001b[0;34m.\u001b[0m\u001b[0mpoll\u001b[0m\u001b[0;34m(\u001b[0m\u001b[0;34m)\u001b[0m \u001b[0;32mis\u001b[0m \u001b[0;32mnot\u001b[0m \u001b[0;32mNone\u001b[0m\u001b[0;34m:\u001b[0m\u001b[0;34m\u001b[0m\u001b[0;34m\u001b[0m\u001b[0m\n\u001b[1;32m     19\u001b[0m             \u001b[0;32mbreak\u001b[0m\u001b[0;34m\u001b[0m\u001b[0;34m\u001b[0m\u001b[0m\n",
      "\u001b[0;31mKeyboardInterrupt\u001b[0m: "
     ]
    }
   ],
   "source": [
    "pop_size = toolbox.pop_size#20\n",
    "pop = toolbox.population(n=pop_size)\n",
    "# no. of generations, \n",
    "#ngen, cxpb, mutpb = 10, 0.5, 0.5\n",
    "\n",
    "# initialize the first population of individuals' fitness values \n",
    "ind_count = 0 \n",
    "for ind in pop: \n",
    "    ind.gen = 0\n",
    "    ind.num = ind_count\n",
    "    ind_count += 1 \n",
    "# evaluate fitness values of initial pop\n",
    "fitnesses = toolbox.map(toolbox.evaluate, pop)\n",
    "dz = 10\n",
    "dz_vals = np.arange(1,dz+1)\n",
    "# assign fitness values to individuals \n",
    "print('hi')\n",
    "for ind, fitness in zip(pop, fitnesses):\n",
    "    print('hi1')\n",
    "    ind.fitness.values = (fitness[1],)\n",
    "    print('hi2')\n",
    "    ind.keff = fitness[0]\n",
    "    results = add_results(ind,results)\n",
    "    print(results)\n",
    "# start working on each generation\n",
    "for g in range(toolbox.ngen):\n",
    "    print('GENERATION', g)\n",
    "    new_pop = []\n",
    "    # kill off individuals with keff < 1 \n",
    "    for ind in pop:\n",
    "        #fitnesses = ind.fitness.values\n",
    "        if ind.keff >= 1:\n",
    "            new_pop.append(ind)\n",
    "    # apply selection operator return half pop with lowest total PF \n",
    "    new_pop = toolbox.select(new_pop, k = pop_size)\n",
    "    # extend new_pop back to 100 length \n",
    "    new_pop = list(islice(cycle(new_pop),pop_size))\n",
    "    # mating operator \n",
    "    print('mate')\n",
    "    for child1, child2 in zip(new_pop[::2], new_pop[1::2]):\n",
    "        if random.random() < toolbox.cxpb:\n",
    "            toolbox.mate(child1, child2)\n",
    "            del child1.fitness.values, child2.fitness.values\n",
    "    # mutation operator \n",
    "    print('mutate')\n",
    "    for mutant in new_pop:\n",
    "        if random.random() < toolbox.mutpb:\n",
    "            toolbox.mutate(mutant)\n",
    "            del mutant.fitness.values \n",
    "    print('done mutate')\n",
    "    ind_count = 0 \n",
    "    for ind in new_pop: \n",
    "        ind.gen = g+1\n",
    "        ind.num = ind_count\n",
    "        ind_count += 1 \n",
    "    \n",
    "    # evaluate fitness of newly created population \n",
    "    fitnesses = toolbox.map(toolbox.evaluate, new_pop)\n",
    "    dz = 10\n",
    "    dz_vals = np.arange(1,dz+1)\n",
    "    # assign fitness values to individuals \n",
    "    for ind, fitness in zip(new_pop, fitnesses):\n",
    "        ind.fitness.values = (fitness[1],)\n",
    "        ind.keff = fitness[0]\n",
    "        results = add_results(ind,results)\n",
    "        print(results)\n",
    "    pop = new_pop.copy()\n",
    "    pf_list = [] \n",
    "    for ind in pop: \n",
    "        pf_list.append(round(ind[0],4))\n",
    "    print(pf_list)"
   ]
  },
  {
   "cell_type": "code",
   "execution_count": null,
   "metadata": {},
   "outputs": [],
   "source": [
    "df = pd.DataFrame(data=results)"
   ]
  },
  {
   "cell_type": "code",
   "execution_count": null,
   "metadata": {},
   "outputs": [],
   "source": [
    "df"
   ]
  },
  {
   "cell_type": "code",
   "execution_count": null,
   "metadata": {},
   "outputs": [],
   "source": [
    "df.plot(x='gen', y='total_pf',kind='scatter')"
   ]
  },
  {
   "cell_type": "code",
   "execution_count": null,
   "metadata": {},
   "outputs": [],
   "source": [
    "df.to_csv('results.csv')"
   ]
  },
  {
   "cell_type": "code",
   "execution_count": null,
   "metadata": {},
   "outputs": [],
   "source": [
    "results = add_results(ind,results)"
   ]
  },
  {
   "cell_type": "code",
   "execution_count": null,
   "metadata": {},
   "outputs": [],
   "source": [
    "df = pd.DataFrame(data=results)"
   ]
  },
  {
   "cell_type": "code",
   "execution_count": null,
   "metadata": {},
   "outputs": [],
   "source": [
    "df.to_csv('results.csv')"
   ]
  },
  {
   "cell_type": "code",
   "execution_count": null,
   "metadata": {},
   "outputs": [],
   "source": [
    "def export_to_txt():\n",
    "    df = pd.DataFrame(data=results)\n",
    "    df.to_csv('results.csv')"
   ]
  },
  {
   "cell_type": "code",
   "execution_count": null,
   "metadata": {},
   "outputs": [],
   "source": [
    "export_to_txt()"
   ]
  },
  {
   "cell_type": "code",
   "execution_count": null,
   "metadata": {},
   "outputs": [],
   "source": []
  }
 ],
 "metadata": {
  "kernelspec": {
   "display_name": "openmc-ker",
   "language": "python",
   "name": "openmc-ker"
  },
  "language_info": {
   "codemirror_mode": {
    "name": "ipython",
    "version": 3
   },
   "file_extension": ".py",
   "mimetype": "text/x-python",
   "name": "python",
   "nbconvert_exporter": "python",
   "pygments_lexer": "ipython3",
   "version": "3.8.6"
  }
 },
 "nbformat": 4,
 "nbformat_minor": 4
}
